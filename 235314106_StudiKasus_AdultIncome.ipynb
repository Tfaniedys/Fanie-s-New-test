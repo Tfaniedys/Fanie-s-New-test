{
  "nbformat": 4,
  "nbformat_minor": 0,
  "metadata": {
    "colab": {
      "provenance": [],
      "authorship_tag": "ABX9TyMnIYuban1T02Ekkd1k+YEZ",
      "include_colab_link": true
    },
    "kernelspec": {
      "name": "python3",
      "display_name": "Python 3"
    },
    "language_info": {
      "name": "python"
    }
  },
  "cells": [
    {
      "cell_type": "markdown",
      "metadata": {
        "id": "view-in-github",
        "colab_type": "text"
      },
      "source": [
        "<a href=\"https://colab.research.google.com/github/Tfaniedys/Fanie-s-New-test/blob/main/235314106_StudiKasus_AdultIncome.ipynb\" target=\"_parent\"><img src=\"https://colab.research.google.com/assets/colab-badge.svg\" alt=\"Open In Colab\"/></a>"
      ]
    },
    {
      "cell_type": "code",
      "execution_count": 15,
      "metadata": {
        "id": "jHe65gYjiN8g"
      },
      "outputs": [],
      "source": [
        "import pandas as pd\n",
        "import numpy as np\n",
        "import seaborn as sns\n",
        "import matplotlib.pyplot as plt\n",
        "from sklearn.preprocessing import LabelEncoder, StandardScaler\n",
        "from sklearn.model_selection import train_test_split"
      ]
    },
    {
      "cell_type": "code",
      "source": [
        "# Load dataset\n",
        "df = pd.read_csv(\"adult.csv\")"
      ],
      "metadata": {
        "id": "3r1Xx0qWiZuu"
      },
      "execution_count": 16,
      "outputs": []
    },
    {
      "cell_type": "code",
      "source": [
        "# Menampilkan info awal\n",
        "print(df.info())"
      ],
      "metadata": {
        "colab": {
          "base_uri": "https://localhost:8080/"
        },
        "id": "ZQrTrZi6kWvJ",
        "outputId": "9cdc5891-c080-424a-8d2f-e7d2cec8924a"
      },
      "execution_count": 17,
      "outputs": [
        {
          "output_type": "stream",
          "name": "stdout",
          "text": [
            "<class 'pandas.core.frame.DataFrame'>\n",
            "RangeIndex: 32560 entries, 0 to 32559\n",
            "Data columns (total 15 columns):\n",
            " #   Column          Non-Null Count  Dtype \n",
            "---  ------          --------------  ----- \n",
            " 0   39              32560 non-null  int64 \n",
            " 1    State-gov      32560 non-null  object\n",
            " 2    77516          32560 non-null  int64 \n",
            " 3    Bachelors      32560 non-null  object\n",
            " 4    13             32560 non-null  int64 \n",
            " 5    Never-married  32560 non-null  object\n",
            " 6    Adm-clerical   32560 non-null  object\n",
            " 7    Not-in-family  32560 non-null  object\n",
            " 8    White          32560 non-null  object\n",
            " 9    Male           32560 non-null  object\n",
            " 10   2174           32560 non-null  int64 \n",
            " 11   0              32560 non-null  int64 \n",
            " 12   40             32560 non-null  int64 \n",
            " 13   United-States  32560 non-null  object\n",
            " 14   <=50K          32560 non-null  object\n",
            "dtypes: int64(6), object(9)\n",
            "memory usage: 3.7+ MB\n",
            "None\n"
          ]
        }
      ]
    },
    {
      "cell_type": "code",
      "source": [
        "# Membersihkan nama kolom dari spasi ekstra\n",
        "df.columns = df.columns.str.strip()"
      ],
      "metadata": {
        "id": "fzdk6MJXkao5"
      },
      "execution_count": 40,
      "outputs": []
    },
    {
      "cell_type": "code",
      "source": [
        "# Cetak nama kolom sebelum preprocessing\n",
        "print(\"Kolom sebelum preprocessing:\", df.columns.tolist())"
      ],
      "metadata": {
        "colab": {
          "base_uri": "https://localhost:8080/"
        },
        "id": "dQXmvzYZkdl8",
        "outputId": "6084be6f-15ef-4de2-f69b-1faba7b89f46"
      },
      "execution_count": 41,
      "outputs": [
        {
          "output_type": "stream",
          "name": "stdout",
          "text": [
            "Kolom sebelum preprocessing: ['39', 'State-gov', '77516', 'Bachelors', '13', 'Never-married', 'Adm-clerical', 'Not-in-family', 'White', 'Male', '2174', '0', '40', 'United-States', '<=50K']\n"
          ]
        }
      ]
    },
    {
      "cell_type": "code",
      "source": [
        "# Menghapus duplikasi\n",
        "duplicate_count = df.duplicated().sum()\n",
        "print(f\"Jumlah duplikasi sebelum dihapus: {duplicate_count}\")\n",
        "df.drop_duplicates(inplace=True)\n",
        "print(f\"Jumlah duplikasi setelah dihapus: {df.duplicated().sum()}\")"
      ],
      "metadata": {
        "colab": {
          "base_uri": "https://localhost:8080/"
        },
        "id": "-bNmhA2SvLzB",
        "outputId": "6cf392f0-60fd-4065-8afe-08faef677979"
      },
      "execution_count": 75,
      "outputs": [
        {
          "output_type": "stream",
          "name": "stdout",
          "text": [
            "Jumlah duplikasi sebelum dihapus: 6\n",
            "Jumlah duplikasi setelah dihapus: 0\n"
          ]
        }
      ]
    },
    {
      "cell_type": "code",
      "source": [
        "print(\"Jumlah duplikasi:\", df.duplicated().sum())\n"
      ],
      "metadata": {
        "colab": {
          "base_uri": "https://localhost:8080/"
        },
        "id": "aoi8p7NRvth3",
        "outputId": "89a617e4-8601-4215-9da4-1bdbdb7034cc"
      },
      "execution_count": 79,
      "outputs": [
        {
          "output_type": "stream",
          "name": "stdout",
          "text": [
            "Jumlah duplikasi: 0\n"
          ]
        }
      ]
    },
    {
      "cell_type": "code",
      "source": [
        "# Ganti '?' dengan NaN dan isi nilai hilang\n",
        "df.replace(' ?', np.nan, inplace=True)\n",
        "for column in df.select_dtypes(include=['object']).columns:\n",
        "    df[column].fillna(df[column].mode()[0], inplace=True)\n"
      ],
      "metadata": {
        "id": "KqhEope5kg7o"
      },
      "execution_count": 58,
      "outputs": []
    },
    {
      "cell_type": "code",
      "source": [
        "# Encoding kolom kategorikal\n",
        "label_encoders = {}\n",
        "for column in df.select_dtypes(include=['object']).columns:\n",
        "    le = LabelEncoder()\n",
        "    df[column] = le.fit_transform(df[column])\n",
        "    label_encoders[column] = le"
      ],
      "metadata": {
        "id": "GvgOcDGusei_"
      },
      "execution_count": 59,
      "outputs": []
    },
    {
      "cell_type": "code",
      "source": [
        "# Menampilkan jumlah data yang hilang\n",
        "print(df.isnull().sum())"
      ],
      "metadata": {
        "colab": {
          "base_uri": "https://localhost:8080/"
        },
        "id": "wZSsVN_Hkkdv",
        "outputId": "2b1e8776-1d69-4bda-b8db-3e215e1ced75"
      },
      "execution_count": 44,
      "outputs": [
        {
          "output_type": "stream",
          "name": "stdout",
          "text": [
            "39               0\n",
            "State-gov        0\n",
            "77516            0\n",
            "Bachelors        0\n",
            "13               0\n",
            "Never-married    0\n",
            "Adm-clerical     0\n",
            "Not-in-family    0\n",
            "White            0\n",
            "Male             0\n",
            "2174             0\n",
            "0                0\n",
            "40               0\n",
            "United-States    0\n",
            "<=50K            0\n",
            "dtype: int64\n"
          ]
        }
      ]
    },
    {
      "cell_type": "code",
      "source": [
        "# Mengisi nilai hilang pada kolom kategorikal dengan modus\n",
        "for column in df.select_dtypes(include=['object']).columns:\n",
        "    df[column].fillna(df[column].mode()[0], inplace=True)"
      ],
      "metadata": {
        "id": "2ckkV6TYkndi"
      },
      "execution_count": 45,
      "outputs": []
    },
    {
      "cell_type": "code",
      "source": [
        "# Menghapus spasi ekstra dalam kolom kategorikal\n",
        "df = df.applymap(lambda x: x.strip() if isinstance(x, str) else x)"
      ],
      "metadata": {
        "colab": {
          "base_uri": "https://localhost:8080/"
        },
        "id": "WBdHJnlbmDDC",
        "outputId": "2597cffb-b4da-435f-c73a-994e89296a84"
      },
      "execution_count": 46,
      "outputs": [
        {
          "output_type": "stream",
          "name": "stderr",
          "text": [
            "<ipython-input-46-2f089cf549f4>:2: FutureWarning: DataFrame.applymap has been deprecated. Use DataFrame.map instead.\n",
            "  df = df.applymap(lambda x: x.strip() if isinstance(x, str) else x)\n"
          ]
        }
      ]
    },
    {
      "cell_type": "code",
      "source": [
        "# Cetak nama kolom sebelum encoding\n",
        "print(\"Kolom sebelum encoding:\", df.columns.tolist())"
      ],
      "metadata": {
        "colab": {
          "base_uri": "https://localhost:8080/"
        },
        "id": "aJ00EpJ0mE33",
        "outputId": "f7fa2838-6088-4c3d-b59e-3e96ba246bf5"
      },
      "execution_count": 47,
      "outputs": [
        {
          "output_type": "stream",
          "name": "stdout",
          "text": [
            "Kolom sebelum encoding: ['39', 'State-gov', '77516', 'Bachelors', '13', 'Never-married', 'Adm-clerical', 'Not-in-family', 'White', 'Male', '2174', '0', '40', 'United-States', '<=50K']\n"
          ]
        }
      ]
    },
    {
      "cell_type": "code",
      "source": [
        "# Konversi data kategorikal ke numerik dengan Label Encoding\n",
        "label_encoders = {}\n",
        "for column in df.select_dtypes(include=['object']).columns:\n",
        "    le = LabelEncoder()\n",
        "    df[column] = le.fit_transform(df[column])\n",
        "    label_encoders[column] = le"
      ],
      "metadata": {
        "id": "sMVOvOE_mPDc"
      },
      "execution_count": 48,
      "outputs": []
    },
    {
      "cell_type": "code",
      "source": [
        "# Cetak nama kolom setelah encoding\n",
        "print(\"Kolom setelah encoding:\", df.columns.tolist())"
      ],
      "metadata": {
        "colab": {
          "base_uri": "https://localhost:8080/"
        },
        "id": "eSXg6aMLpyYn",
        "outputId": "feeefc58-8fbd-46ef-e100-c6bf5ab45981"
      },
      "execution_count": 49,
      "outputs": [
        {
          "output_type": "stream",
          "name": "stdout",
          "text": [
            "Kolom setelah encoding: ['39', 'State-gov', '77516', 'Bachelors', '13', 'Never-married', 'Adm-clerical', 'Not-in-family', 'White', 'Male', '2174', '0', '40', 'United-States', '<=50K']\n"
          ]
        }
      ]
    },
    {
      "cell_type": "code",
      "source": [
        "# Deteksi outlier menggunakan boxplot\n",
        "plt.figure(figsize=(12, 6))\n",
        "sns.boxplot(data=df.select_dtypes(include=[np.number]))\n",
        "plt.xticks(rotation=90)\n",
        "plt.show()\n"
      ],
      "metadata": {
        "colab": {
          "base_uri": "https://localhost:8080/",
          "height": 608
        },
        "id": "SqVSlfTgqYvo",
        "outputId": "a1cd5f1b-d2b5-4e10-ec9f-c5450bb8f1b0"
      },
      "execution_count": 50,
      "outputs": [
        {
          "output_type": "display_data",
          "data": {
            "text/plain": [
              "<Figure size 1200x600 with 1 Axes>"
            ],
            "image/png": "[encoded data removed]"
          },
          "metadata": {}
        }
      ]
    },
    {
      "cell_type": "code",
      "source": [
        "# Menghapus outlier berdasarkan IQR\n",
        "Q1 = df.quantile(0.25)\n",
        "Q3 = df.quantile(0.75)\n",
        "IQR = Q3 - Q1\n",
        "\n",
        "df = df[~((df < (Q1 - 1.5 * IQR)) | (df > (Q3 + 1.5 * IQR))).any(axis=1)]\n"
      ],
      "metadata": {
        "id": "l5ulI3DkqbEi"
      },
      "execution_count": 51,
      "outputs": []
    },
    {
      "cell_type": "code",
      "source": [
        "# Normalisasi fitur numerik\n",
        "scaler = StandardScaler()\n",
        "df[df.select_dtypes(include=[np.number]).columns] = scaler.fit_transform(df.select_dtypes(include=[np.number]))\n",
        "\n"
      ],
      "metadata": {
        "id": "QXwMoZ39nyzD"
      },
      "execution_count": 60,
      "outputs": []
    },
    {
      "cell_type": "code",
      "source": [
        "# Cek apakah kolom 'income' ada\n",
        "print(\"Kolom setelah preprocessing:\", df.columns.tolist())"
      ],
      "metadata": {
        "colab": {
          "base_uri": "https://localhost:8080/"
        },
        "id": "qhGQRUNKsvHb",
        "outputId": "69bf25f2-cc72-4f9e-9459-81c0c75e7345"
      },
      "execution_count": 61,
      "outputs": [
        {
          "output_type": "stream",
          "name": "stdout",
          "text": [
            "Kolom setelah preprocessing: ['39', 'State-gov', '77516', 'Bachelors', '13', 'Never-married', 'Adm-clerical', 'Not-in-family', 'White', 'Male', '2174', '0', '40', 'United-States', '<=50K']\n"
          ]
        }
      ]
    },
    {
      "cell_type": "code",
      "source": [
        "# Cetak nama kolom setelah preprocessing\n",
        "print(\"Kolom setelah preprocessing:\", df.columns.tolist())\n",
        "print(\"5 baris pertama dataset setelah preprocessing:\")\n",
        "print(df.head())"
      ],
      "metadata": {
        "colab": {
          "base_uri": "https://localhost:8080/"
        },
        "id": "XditK5Xorat_",
        "outputId": "f6f2eb68-7b91-48d8-bc92-36e8e1beffc7"
      },
      "execution_count": 53,
      "outputs": [
        {
          "output_type": "stream",
          "name": "stdout",
          "text": [
            "Kolom setelah preprocessing: ['39', 'State-gov', '77516', 'Bachelors', '13', 'Never-married', 'Adm-clerical', 'Not-in-family', 'White', 'Male', '2174', '0', '40', 'United-States', '<=50K']\n",
            "5 baris pertama dataset setelah preprocessing:\n",
            "          39  State-gov     77516  Bachelors        13  Never-married  \\\n",
            "1   0.240646        0.0  0.485455  -0.202224 -0.761782      -1.644969   \n",
            "4   0.155255        0.0  1.325380   0.219617  2.576516      -0.415581   \n",
            "16 -0.271700        0.0  0.134285  -0.202224 -0.761782       0.813808   \n",
            "23  2.033858        0.0 -0.813749  -0.202224 -0.761782      -1.644969   \n",
            "25 -1.381784        0.0 -0.091487  -0.202224 -0.761782       0.813808   \n",
            "\n",
            "    Adm-clerical  Not-in-family  White      Male  2174    0            40  \\\n",
            "1      -0.100652      -0.409316    0.0  0.782906   0.0  0.0 -1.110223e-16   \n",
            "4      -0.590846       2.240225    0.0 -1.277292   0.0  0.0 -1.110223e-16   \n",
            "16      0.144445       1.577840    0.0  0.782906   0.0  0.0 -1.110223e-16   \n",
            "23      1.615027       1.577840    0.0 -1.277292   0.0  0.0 -1.110223e-16   \n",
            "25     -0.835943       0.915455    0.0  0.782906   0.0  0.0 -1.110223e-16   \n",
            "\n",
            "    United-States  <=50K  \n",
            "1             0.0    0.0  \n",
            "4             0.0    0.0  \n",
            "16            0.0    0.0  \n",
            "23            0.0    0.0  \n",
            "25            0.0    0.0  \n"
          ]
        }
      ]
    },
    {
      "cell_type": "code",
      "source": [
        "# Pastikan kolom 'income' ada dalam dataset\n",
        "if 'income' in df.columns:\n",
        "    print(\"Kolom '<=50K' ditemukan! Berikut adalah beberapa nilai dari kolom '<=50K':\")\n",
        "    print(df['<=50K'].head())"
      ],
      "metadata": {
        "id": "Yb32hZb8rdiv"
      },
      "execution_count": 80,
      "outputs": []
    },
    {
      "cell_type": "code",
      "source": [
        "print(df.dtypes)\n",
        "\n"
      ],
      "metadata": {
        "colab": {
          "base_uri": "https://localhost:8080/"
        },
        "id": "lOeub1CpurxE",
        "outputId": "994bdde5-ee54-4517-c9bf-ce27e5c7b1f5"
      },
      "execution_count": 72,
      "outputs": [
        {
          "output_type": "stream",
          "name": "stdout",
          "text": [
            "39               float64\n",
            "State-gov        float64\n",
            "77516            float64\n",
            "Bachelors        float64\n",
            "13               float64\n",
            "Never-married    float64\n",
            "Adm-clerical     float64\n",
            "Not-in-family    float64\n",
            "White            float64\n",
            "Male             float64\n",
            "2174             float64\n",
            "0                float64\n",
            "40               float64\n",
            "United-States    float64\n",
            "<=50K            float64\n",
            "dtype: object\n"
          ]
        }
      ]
    },
    {
      "cell_type": "code",
      "source": [
        "print(df.describe())\n"
      ],
      "metadata": {
        "colab": {
          "base_uri": "https://localhost:8080/"
        },
        "id": "WX8-PGy_u28H",
        "outputId": "b14f240a-dd1c-4933-b6e4-7a1a2e7f1685"
      },
      "execution_count": 73,
      "outputs": [
        {
          "output_type": "stream",
          "name": "stdout",
          "text": [
            "                 39  State-gov         77516     Bachelors            13  \\\n",
            "count  5.384000e+03     5384.0  5.384000e+03  5.384000e+03  5.384000e+03   \n",
            "mean   9.897976e-18        0.0  1.847622e-17 -6.598651e-18 -3.827218e-17   \n",
            "std    1.000093e+00        0.0  1.000093e+00  1.000093e+00  1.000093e+00   \n",
            "min   -1.552566e+00        0.0 -1.912610e+00 -1.889588e+00 -7.617816e-01   \n",
            "25%   -8.694374e-01        0.0 -7.295325e-01 -2.022236e-01 -7.617816e-01   \n",
            "50%   -1.863092e-01        0.0 -2.957076e-03 -2.022236e-01 -9.412212e-02   \n",
            "75%    6.676012e-01        0.0  5.603847e-01  1.485141e+00  5.735373e-01   \n",
            "max    2.802377e+00        0.0  2.574154e+00  1.485141e+00  2.576516e+00   \n",
            "\n",
            "       Never-married  Adm-clerical  Not-in-family   White          Male  \\\n",
            "count   5.384000e+03  5.384000e+03   5.384000e+03  5384.0  5.384000e+03   \n",
            "mean    2.507487e-17 -2.556977e-17  -3.233339e-17     0.0  4.619056e-17   \n",
            "std     1.000093e+00  1.000093e+00   1.000093e+00     0.0  1.000093e+00   \n",
            "min    -1.644969e+00 -1.326136e+00  -1.071701e+00     0.0 -1.277292e+00   \n",
            "25%    -4.155808e-01 -8.359426e-01  -1.071701e+00     0.0 -1.277292e+00   \n",
            "50%    -4.155808e-01 -1.006518e-01  -4.093157e-01     0.0  7.829060e-01   \n",
            "75%     8.138077e-01  8.797359e-01   9.154548e-01     0.0  7.829060e-01   \n",
            "max     2.043196e+00  1.860124e+00   2.240225e+00     0.0  7.829060e-01   \n",
            "\n",
            "         2174       0      40  United-States   <=50K  \n",
            "count  5384.0  5384.0  5384.0         5384.0  5384.0  \n",
            "mean      0.0     0.0     0.0            0.0     0.0  \n",
            "std       0.0     0.0     0.0            0.0     0.0  \n",
            "min       0.0     0.0     0.0            0.0     0.0  \n",
            "25%       0.0     0.0     0.0            0.0     0.0  \n",
            "50%       0.0     0.0     0.0            0.0     0.0  \n",
            "75%       0.0     0.0     0.0            0.0     0.0  \n",
            "max       0.0     0.0     0.0            0.0     0.0  \n"
          ]
        }
      ]
    },
    {
      "cell_type": "code",
      "source": [
        "if '<=50K' in df.columns:\n",
        "    print(\"Kolom '<=50K' ditemukan! Berikut adalah beberapa nilai dari kolom '<=50K':\")\n",
        "    print(df['<=50K'].head())\n",
        "\n",
        "    # Pisahkan fitur (X) dan target (y)\n",
        "    X = df.drop('<=50K', axis=1)\n",
        "    y = df['<=50K']\n"
      ],
      "metadata": {
        "colab": {
          "base_uri": "https://localhost:8080/"
        },
        "id": "r6YEDKf8rgK-",
        "outputId": "088baf37-d071-4fa3-c1e6-61dc5ac80bf1"
      },
      "execution_count": 76,
      "outputs": [
        {
          "output_type": "stream",
          "name": "stdout",
          "text": [
            "Kolom '<=50K' ditemukan! Berikut adalah beberapa nilai dari kolom '<=50K':\n",
            "1     0.0\n",
            "4     0.0\n",
            "16    0.0\n",
            "23    0.0\n",
            "25    0.0\n",
            "Name: <=50K, dtype: float64\n"
          ]
        }
      ]
    }
  ]
}